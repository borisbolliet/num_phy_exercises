{
 "cells": [
  {
   "attachments": {},
   "cell_type": "markdown",
   "metadata": {},
   "source": [
    "# TD6: Solving the spherical laplacian using spectral methods\n",
    "*Prepared by Bruno Régaldo-Saint Blancard*"
   ]
  },
  {
   "attachments": {
    "3D_Spherical.png": {
     "image/png": "[encoded data removed]"
    }
   },
   "cell_type": "markdown",
   "metadata": {},
   "source": [
    "The goal of this TD is to solve a **laplacian problem** in **spherical geometry** with Dirichlet boundary conditions using **spectral methods**. The spatial domain $\\Omega$ of this problem is the spherical shell bounded by two concentric spheres $\\mathcal{S}(0, R_1)$ (sphere of radius $R_1$ centered at the origin) and $\\mathcal{S}(0, R_2)$ with $R_1 < R_2$. Thus we want to solve:\n",
    "$$\n",
    "   \\begin{cases}\n",
    "        \\Delta f (r, \\theta, \\varphi) = 0 \\text{ with } (r, \\theta, \\varphi) \\in \\Omega\\\\\n",
    "        f (R_1, \\theta, \\varphi) = g_1 (\\theta, \\varphi) \\\\\n",
    "        f (R_2, \\theta, \\varphi) = g_2 (\\theta, \\varphi)\n",
    "   \\end{cases}\n",
    "$$\n",
    "with $g_1$ and $g_2$ two boundary functions. To simplify this problem, we will assume **$\\varphi$ invariance** so we can forget about this variable and we will use the following boundary functions:\n",
    "$$\n",
    "   \\begin{cases}\n",
    "        g_1 (\\theta) = \\cos (\\theta)\\\\\n",
    "        g_2 (\\theta) = 0\n",
    "   \\end{cases}\n",
    "$$\n",
    "\n",
    "We will adopt the following convention to define spherical coordinates $(r, \\theta, \\varphi)$ in a cartesian system:\n",
    " <div class=\"row\">\n",
    "  <div class=\"column\" style=\"float:left; margin:0; width:50%;\">$$\n",
    "\\begin{align}&\\\\&\\\\ x&=r \\, \\sin\\theta \\, \\cos\\varphi \\\\ y&=r \\, \\sin\\theta \\, \\sin\\varphi \\\\ z&=r \\, \\cos\\theta\\end{align}\n",
    "$$ </div>\n",
    "  <div class=\"column\" style=\"float:left; margin:0; width:50%;\">![3D_Spherical.png](attachment:3D_Spherical.png)</div>\n",
    "</div> \n",
    "\n",
    "$(r, \\theta, \\varphi)$ variables should satisfy: $r \\geq 0$, $\\theta \\in [0, \\pi]$ and $\\varphi \\in [0, 2\\pi[$.\n",
    "\n",
    "\n",
    "We will need the usual Python packages:"
   ]
  },
  {
   "cell_type": "code",
   "execution_count": null,
   "metadata": {},
   "outputs": [],
   "source": [
    "# To draw matplotlib plots within this notebook.\n",
    "%matplotlib inline\n",
    "\n",
    "import numpy as np\n",
    "import matplotlib.pyplot as plt"
   ]
  },
  {
   "attachments": {},
   "cell_type": "markdown",
   "metadata": {},
   "source": [
    "## Part 1: Spherical harmonics\n",
    "\n",
    "[Spherical harmonics](https://en.wikipedia.org/wiki/Spherical_harmonics) are a set of angular functions which can be defined by:\n",
    "$$\n",
    "Y^m_l(\\theta,\\varphi) = \\sqrt{\\frac{2l+1}{4\\pi} \\frac{(l-m)!}{(l+m)!}}\n",
    "  e^{i m \\varphi} P^m_l(\\cos(\\theta))\n",
    "$$\n",
    "with $P_l^m$ an [associated Legendre polynomial](https://en.wikipedia.org/wiki/Associated_Legendre_polynomials). These functions are eigenfunctions of the angular laplacian operator $\\Delta_{\\text{ang}}$:\n",
    "$$\n",
    "    \\Delta_{\\text{ang}}Y^m_l = \\left(\\frac{\\partial^2}{\\partial \\theta^2} + \\frac1{\\tan \\theta}\\frac{\\partial}{\\partial \\theta}+\\frac1{\\sin^2\\theta}\\frac{\\partial^2}{\\partial\\varphi^2}\\right)Y_l^m = -l(l+1)Y_l^m\n",
    "$$\n",
    "\n",
    "In Python, we can manipulate these functions using [scipy.special.sph_harm](https://docs.scipy.org/doc/scipy-0.19.1/reference/generated/scipy.special.sph_harm.html) routine. We will be very careful to the fact that the documentation page of this routine uses another convention for the variables: $\\theta$ and $\\varphi$ variables are inverted.\n",
    "\n",
    "**1)** Plot the real component of a few spherical harmonics in 2D using [pcolor](https://matplotlib.org/api/_as_gen/matplotlib.pyplot.pcolor.html) routine."
   ]
  },
  {
   "cell_type": "code",
   "execution_count": null,
   "metadata": {},
   "outputs": [],
   "source": [
    "from scipy.special import sph_harm\n",
    "\n",
    "\n"
   ]
  },
  {
   "attachments": {},
   "cell_type": "markdown",
   "metadata": {},
   "source": [
    "For information, we can also have a 3D view of these functions using the following routine:"
   ]
  },
  {
   "cell_type": "code",
   "execution_count": null,
   "metadata": {
    "scrolled": true
   },
   "outputs": [],
   "source": [
    "from matplotlib import cm\n",
    "from mpl_toolkits.mplot3d import Axes3D\n",
    "\n",
    "\n",
    "def plot_3d_sph(l, m, res=30):\n",
    "    theta = np.linspace(0, np.pi, res)\n",
    "    phi = np.linspace(0, 2 * np.pi, res)\n",
    "    theta, phi = np.meshgrid(theta, phi)\n",
    "\n",
    "    # The Cartesian coordinates of the unit sphere\n",
    "    x = np.sin(theta) * np.cos(phi)\n",
    "    y = np.sin(theta) * np.sin(phi)\n",
    "    z = np.cos(theta)\n",
    "\n",
    "    # Calculate the spherical harmonic Y(l,m) and normalize to [0,1]\n",
    "    fcolors = sph_harm(m, l, phi, theta).real\n",
    "    fmax, fmin = fcolors.max(), fcolors.min()\n",
    "    fcolors = (fcolors - fmin) / (fmax - fmin)\n",
    "\n",
    "    # Set the aspect ratio to 1 so our sphere looks spherical\n",
    "    fig = plt.figure(figsize=plt.figaspect(1.))\n",
    "    ax = fig.add_subplot(111, projection='3d')\n",
    "    m = cm.ScalarMappable(cmap=cm.seismic)\n",
    "    m.set_array(fcolors)\n",
    "    ax.plot_surface(x, y, z, rstride=1, cstride=1, facecolors=cm.seismic(fcolors))\n",
    "    ax.set_axis_off()\n",
    "    plt.colorbar(m)\n",
    "    plt.show()"
   ]
  },
  {
   "attachments": {},
   "cell_type": "markdown",
   "metadata": {},
   "source": [
    "Any square-integrable function $f(\\theta, \\phi)$ can be expanded as a linear combination of spherical harmonics:\n",
    "$$\n",
    "    f(\\theta, \\varphi) = \\sum_{l=0}^\\infty \\sum_{m=-l}^l f_l^m \\, Y_l^m(\\theta, \\varphi)\n",
    "$$\n",
    "The coefficients can be computed through the following relation:\n",
    "$$\n",
    "f_l^m=\\int_{\\Omega} f(\\theta,\\varphi)\\, Y_l^{m*}(\\theta,\\varphi)\\,d\\Omega = \\int_0^{2\\pi}d\\varphi\\int_0^\\pi \\,d\\theta\\,\\sin\\theta~f(\\theta,\\varphi)~Y_l^{m*} (\\theta,\\varphi)\n",
    "$$\n",
    "\n",
    "**2)** Write a function which computes for a given function $f$ and given integers $l$ and $m$ the associated complex coefficient $f_l^m$. We can use the routine [scipy.integrate.dblquad](https://docs.scipy.org/doc/scipy/reference/generated/scipy.integrate.dblquad.html#scipy.integrate.dblquad) to compute this double integral. It is recommended to have a look at the [scipy.integrate](https://docs.scipy.org/doc/scipy/reference/tutorial/integrate.html) documentation page to see an example."
   ]
  },
  {
   "cell_type": "code",
   "execution_count": null,
   "metadata": {},
   "outputs": [],
   "source": [
    "from scipy.integrate import dblquad\n",
    "\n",
    "\n"
   ]
  },
  {
   "attachments": {},
   "cell_type": "markdown",
   "metadata": {},
   "source": [
    "## Part 2: A spectral approach\n",
    "\n",
    "We want to solve the previous Laplacian equation using spectral methods. We will approximate the solution by an expansion over **Chebyshev polynomials for the radial variable $r$**, and over **spherical harmonics for the angular variable $\\theta$**. Our numerical solution should take the following form:\n",
    "$$\n",
    "    f^{\\text{appr}}(r, \\theta) = \\sum_{l=0}^L\\sum_{n=0}^Nf_{l,n}T_n(u(r))Y_l^0(\\theta) \\text{ with } u(r) = \\frac{r - (R_1+R_2)/2}{(R_2 - R_1)/2}\n",
    "$$\n",
    "$u$ function plays the role of a new variable satisfying $u \\in [-1, 1]$.\n",
    "\n",
    "To solve our problem, we will work in **spectral space**. Therefore, the goal is to **find $\\{f_{l,n}\\}_{0 \\leq l \\leq L, 0 \\leq n \\leq N}$ coefficients** so that $f^{\\text{appr}}$ can  satisfy the problem equation as well as the boundary conditions in an ideal case. But as there is no reason for the exact solution of this problem to be of the prescribed form, we will eventually need to make reasonable compromises so that $f^{\\text{appr}}$ verifies the boundary conditions.\n",
    "\n",
    "Let us define $L$ and $N$ variables with Python with some intial values. We are strongly encouraged to change these values during this TD."
   ]
  },
  {
   "cell_type": "code",
   "execution_count": null,
   "metadata": {},
   "outputs": [],
   "source": [
    "N = 20\n",
    "L = 20"
   ]
  },
  {
   "attachments": {},
   "cell_type": "markdown",
   "metadata": {},
   "source": [
    "**3)** We recall the expression of the **scalar laplacian operator** in spherical coordinates:\n",
    "$$\n",
    "    \\Delta = \\frac{\\partial^2}{\\partial r^2} + \\frac{2}{r}\\frac{\\partial}{\\partial r} + \\frac1{r^2}\\Delta_{\\text{ang}}\n",
    "$$\n",
    "Show that in $\\Omega$:\n",
    "$$\n",
    "\\begin{align}\n",
    "    &\\Delta f^{\\text{appr}}(u, \\theta)=0\\\\ \\iff &\\sum_{l=0}^L\\sum_{n=0}^Nf_{l,n}\\left( u^2T_n^{\\prime\\prime}(u) + 2\\frac{R_1 + R_2}{R_2 - R_1}uT_n^{\\prime\\prime}(u) + \\left(\\frac{R_1 + R_2}{R_2 - R_1}\\right)^2T_n^{\\prime\\prime}(u) + 2uT_n^\\prime(u) + 2\\frac{R_1+R_2}{R_2-R_1}T_n^\\prime(u) - l(l+1)T_n(u)\\right)Y_l^0(\\theta)=0\n",
    "\\end{align}\n",
    "$$"
   ]
  },
  {
   "attachments": {},
   "cell_type": "markdown",
   "metadata": {},
   "source": [
    "Now we should be able to rewrite the previous equation as:\n",
    "$$\n",
    "    \\sum_{l=0}^L\\sum_{n=0}^Ng_{l,n}T_n(u)Y_l^0(\\theta)=0\n",
    "$$\n",
    "introducing some new coefficients $\\{g_{l,n}\\}$ which must be linearly related to $\\{f_{l, n}\\}$. Actually, for a given $l$, there exists a matrix $A_l$ of shape $(N + 1)\\times(N+1)$ so that:\n",
    "$$\n",
    "    G_l = A_lF_l \\text{ with } F_l = (f_{l,n})_{0\\leq n \\leq N} \\text{ and } G_l = (g_{l,n})_{0\\leq n\\leq N}\n",
    "$$\n",
    "Provided we can numerically build these matrix $A_l$, we have the equivalence:\n",
    "$$\n",
    "    \\Delta f^{\\text{appr}}(u, \\theta) = 0 \\iff \\forall l \\in \\{0,...,L\\}, G_l = A_lF_l = 0\n",
    "$$"
   ]
  },
  {
   "attachments": {},
   "cell_type": "markdown",
   "metadata": {},
   "source": [
    "**4) Building Chebyshev differentiation matrix:** We first want to build a matrix of differentiation $D$ of shape $(N+1)\\times(N+1)$ in Chebyshev space. With $X_j=(\\delta_{i,j})_{0\\leq i\\leq N}$ the basis vector which represents $T_j$ polynomial in Chebyshev space, build $D$ so that $DX_j$ is the vector which represents $T_j^\\prime$ polynomial coordinates on the basis of Chebyshev polynomials $T_0, ..., T_N$.\n",
    "\n",
    "We will need the following result: for $h(x) = \\sum_{n=0}^{+\\infty}h_nT_n(x)$ an expansion over Chebyshev polynomials, with $h^\\prime(x)=\\sum_{n=0}^{+\\infty}h_n^\\prime T_n(x)$ we have:\n",
    "$$\n",
    "    h_n^\\prime=\\frac{2}{c_n}\\sum_{\\substack{p=n+1\\\\p + n \\text { odd}}}^{+\\infty}ph_p \\text{ where } c_0 = 2 \\text{ and }c_n = 1 \\text{ for } n\\geq 1\n",
    "$$"
   ]
  },
  {
   "cell_type": "code",
   "execution_count": null,
   "metadata": {},
   "outputs": [],
   "source": [
    "\n",
    "\n",
    "\n"
   ]
  },
  {
   "attachments": {},
   "cell_type": "markdown",
   "metadata": {},
   "source": [
    "**5) Building Chebyshev $u$ multiplication matrix**: Now we want to build a matrix $M$ of shape $(N+1)\\times(N+1)$ so that (using the same notations as the previous question) $MX_j$ is the vector that represents $uT_j(u)$ polynomial coordinates on the basis of Chebyshev polynomials $T_0, ..., T_N$.\n",
    "\n",
    "We will need the following result for this question:\n",
    "$$\n",
    "    \\forall m, n\\in\\mathbb{N}, T_m(u) T_n(u) = \\frac1{2}\\left(T_{m+n}(u) + T_{|m-n|}(u)\\right)\n",
    "$$"
   ]
  },
  {
   "cell_type": "code",
   "execution_count": null,
   "metadata": {},
   "outputs": [],
   "source": [
    "\n",
    "\n",
    "\n"
   ]
  },
  {
   "attachments": {},
   "cell_type": "markdown",
   "metadata": {},
   "source": [
    "**6)** What is the expression of $A_l$ as a function of $M$ and $D$ matrix, and as a function of $I_{N+1}$ matrix (which is the $(N+1)\\times(N+1)$ identity matrix)?"
   ]
  },
  {
   "attachments": {},
   "cell_type": "markdown",
   "metadata": {},
   "source": [
    "## Part 3: Enforcing boundary conditions\n",
    "\n",
    "Solving our laplacian problem demands that $f^{\\text{appr}}$ satisfies our boundary conditions:\n",
    "$$\n",
    "\\begin{cases}\n",
    "    f^{\\text{appr}} (R_1, \\theta) = g_1 (\\theta) \\\\\n",
    "    f^{\\text{appr}} (R_2, \\theta) = g_2 (\\theta)\n",
    "\\end{cases}\n",
    "$$\n",
    "We will enforce boundary conditions for $f^{\\text{appr}}$ using **Tau method**. We have:\n",
    "$$\n",
    " \\begin{cases}\n",
    "     f^{\\text{appr}}(R_1, \\theta) = \\sum_{l=0}^L\\sum_{n=0}^Nf_{l,n}(-1)^nY_l^0(\\theta)\\\\\n",
    "     f^{\\text{appr}}(R_2, \\theta) =\n",
    "     \\sum_{l=0}^L\\sum_{n=0}^Nf_{l,n}Y_l^0(\\theta)\n",
    " \\end{cases}\n",
    "$$\n",
    "\n",
    "**7)** With $g_1 (\\theta) = \\sum_{l=0}^Lg_{1,l}Y_l^0(\\theta)$ and $g_2 (\\theta) = \\sum_{l=0}^Lg_{2,l}Y_l^0(\\theta)$, what are the linear relations that should satisfy $\\{f_{l,n}\\}$ coefficients to enforce the boundary conditions?"
   ]
  },
  {
   "attachments": {},
   "cell_type": "markdown",
   "metadata": {},
   "source": [
    "**8)** Change $A_l$ matrix last two rows (these rows involve relations between higher order Chebyshev coefficients) and define a right-hand member $B_l$ so that the previous relations can be satisfied as well as most of the relations of part 2 through the system:\n",
    "$$\n",
    "    \\forall l\\in\\{0, ...,L\\}, A_lF_l = B_l\n",
    "$$\n",
    "\n",
    "With $g_1 (\\theta) = \\cos(\\theta)$ and $g_2 (\\theta)=0$, to get $\\{g_{1,l}\\}$ and $\\{g_{2,l}\\}$ coefficients we can either use the function we should have programmed in question 2) or guess the spherical harmonics decomposition of these simple functions..."
   ]
  },
  {
   "cell_type": "code",
   "execution_count": null,
   "metadata": {},
   "outputs": [],
   "source": [
    "\n",
    "\n",
    "\n"
   ]
  },
  {
   "attachments": {},
   "cell_type": "markdown",
   "metadata": {},
   "source": [
    "**9)** Invert these linear systems using for example [scipy.linalg.lu_factor](https://docs.scipy.org/doc/scipy/reference/generated/scipy.linalg.lu_factor.html) and [scipy.linalg.lu_solve](https://docs.scipy.org/doc/scipy/reference/generated/scipy.linalg.lu_solve.html) routines."
   ]
  },
  {
   "cell_type": "code",
   "execution_count": null,
   "metadata": {},
   "outputs": [],
   "source": [
    "import scipy.linalg as la\n",
    "\n",
    "\n"
   ]
  },
  {
   "attachments": {},
   "cell_type": "markdown",
   "metadata": {},
   "source": [
    "**10)** Now plot the numerical solution $f^{\\text{appr}}$ using [pcolor](https://matplotlib.org/api/_as_gen/matplotlib.pyplot.pcolor.html) routine. We can use [numpy.polynomial.chebyshev.chebval](https://docs.scipy.org/doc/numpy-1.13.0/reference/generated/numpy.polynomial.chebyshev.chebval.html#numpy.polynomial.chebyshev.chebval) function to compute the values of a linear combination of Chebyshev polynomials."
   ]
  },
  {
   "cell_type": "code",
   "execution_count": null,
   "metadata": {},
   "outputs": [],
   "source": [
    "import numpy.polynomial.chebyshev as cheb\n",
    "\n",
    "\n"
   ]
  },
  {
   "attachments": {},
   "cell_type": "markdown",
   "metadata": {},
   "source": [
    "**11)** Compare the previous numerical solution to the exact solution of this problem:\n",
    "$$\n",
    "    f(r, \\theta) = (r/R_1)\\frac{\\left(R_1/r\\right)^3 - a^3}{1-a^3}\\cos (\\theta) \\text{ with } a = \\frac{R_1}{R_2}\n",
    "$$\n",
    "We can try several values of $N$ or $L$ and observe the difference."
   ]
  },
  {
   "cell_type": "code",
   "execution_count": null,
   "metadata": {},
   "outputs": [],
   "source": [
    "\n",
    "\n",
    "\n"
   ]
  },
  {
   "attachments": {},
   "cell_type": "markdown",
   "metadata": {},
   "source": [
    "**BONUS: 12)** We now want to check that our code is still working for boundary conditions involving multiple spherical harmonics. Numerically solve the same laplacian problem with:\n",
    "$$\n",
    "   \\begin{cases}\n",
    "        g_1 (\\theta) = \\exp\\left(\\cos\\left(\\theta\\right)\\right)\\\\\n",
    "        g_2 (\\theta) = 0\n",
    "   \\end{cases}\n",
    "$$\n",
    "We will then compare this numerical solution to the exact solution:\n",
    "$$\n",
    "    f(r,\\theta) = \\sum_{l=0}^{+\\infty}(r/R_1)^l\\frac{(R_1/r)^{2l+1}-a^{2l+1}}{1 - a^{2l+1}}g_lY_l^0(\\theta)\n",
    "$$\n",
    "with $\\{g_l\\}$ the spherical harmonics coefficients of $g_1$, meaning $g_1(\\theta)=\\sum_{l=0}^{+\\infty}g_lY_l^0(\\theta)$."
   ]
  },
  {
   "cell_type": "code",
   "execution_count": null,
   "metadata": {},
   "outputs": [],
   "source": [
    "\n",
    "\n",
    "\n"
   ]
  }
 ],
 "metadata": {
  "kernelspec": {
   "display_name": "Python 3",
   "language": "python",
   "name": "python3"
  },
  "language_info": {
   "codemirror_mode": {
    "name": "ipython",
    "version": 3
   },
   "file_extension": ".py",
   "mimetype": "text/x-python",
   "name": "python",
   "nbconvert_exporter": "python",
   "pygments_lexer": "ipython3",
   "version": "3.7.7"
  }
 },
 "nbformat": 4,
 "nbformat_minor": 2
}
